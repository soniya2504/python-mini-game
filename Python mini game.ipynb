{
 "cells": [
  {
   "cell_type": "markdown",
   "id": "fb983c29-af50-4b08-90c9-72d3dbaf09ab",
   "metadata": {},
   "source": [
    "# PYTHON MINI GAME"
   ]
  },
  {
   "cell_type": "markdown",
   "id": "e20fcba6-ca54-4bc1-8c81-62c393fd4610",
   "metadata": {},
   "source": [
    "###  Overall Project Overview\n",
    "\n",
    "This project contains 7 beginner-friendly Python games, each built using only basic Python concepts — like loops, conditionals, user input, and random numbers.\n",
    "\n",
    "These games are easy to understand, and perfect for:\n",
    "\n",
    "Practicing programming logic\n",
    "\n",
    "Learning problem-solving\n",
    "\n",
    "Strengthening Python fundamentals\n",
    "\n",
    "Each game runs in the terminal — no graphics or extra libraries needed!"
   ]
  },
  {
   "cell_type": "markdown",
   "id": "be5ba011-1310-4c5f-a14c-2c03b8a4f05c",
   "metadata": {},
   "source": [
    "### Guess the Number\n",
    "\n",
    "Description:\n",
    "The computer picks a random number between 1 and 10, and you have to guess it. After each guess, it tells you if your guess is too high or too low.\n",
    "\n",
    "Concepts Learned:\n",
    "\n",
    "Random number generation (random.randint())\n",
    "\n",
    "Loops (while True)\n",
    "\n",
    "Conditional statements (if, elif, else)\n",
    "\n",
    "User input and basic validation\n",
    "\n",
    "Why it’s fun:\n",
    "You can increase the range (like 1–100) or track how many attempts it takes to guess the correct number."
   ]
  },
  {
   "cell_type": "code",
   "execution_count": 3,
   "id": "14c0b1f3-bf91-483d-b720-17ebafccb7eb",
   "metadata": {},
   "outputs": [
    {
     "name": "stdin",
     "output_type": "stream",
     "text": [
      "Guess a number (1–10):  4\n"
     ]
    },
    {
     "name": "stdout",
     "output_type": "stream",
     "text": [
      "Too low!\n"
     ]
    },
    {
     "name": "stdin",
     "output_type": "stream",
     "text": [
      "Guess a number (1–10):  1\n"
     ]
    },
    {
     "name": "stdout",
     "output_type": "stream",
     "text": [
      "Too low!\n"
     ]
    },
    {
     "name": "stdin",
     "output_type": "stream",
     "text": [
      "Guess a number (1–10):  2\n"
     ]
    },
    {
     "name": "stdout",
     "output_type": "stream",
     "text": [
      "Too low!\n"
     ]
    },
    {
     "name": "stdin",
     "output_type": "stream",
     "text": [
      "Guess a number (1–10):  3\n"
     ]
    },
    {
     "name": "stdout",
     "output_type": "stream",
     "text": [
      "Too low!\n"
     ]
    },
    {
     "name": "stdin",
     "output_type": "stream",
     "text": [
      "Guess a number (1–10):  5\n"
     ]
    },
    {
     "name": "stdout",
     "output_type": "stream",
     "text": [
      "Too low!\n"
     ]
    },
    {
     "name": "stdin",
     "output_type": "stream",
     "text": [
      "Guess a number (1–10):  6\n"
     ]
    },
    {
     "name": "stdout",
     "output_type": "stream",
     "text": [
      "🎉 Correct! You guessed it in 6 tries.\n"
     ]
    }
   ],
   "source": [
    "import random\n",
    "\n",
    "number = random.randint(1, 10)\n",
    "attempts = 0\n",
    "\n",
    "while True:\n",
    "    guess = int(input(\"Guess a number (1–10): \"))\n",
    "    attempts += 1\n",
    "    if guess == number:\n",
    "        print(f\"🎉 Correct! You guessed it in {attempts} tries.\")\n",
    "        break\n",
    "    elif guess < number:\n",
    "        print(\"Too low!\")\n",
    "    else:\n",
    "        print(\"Too high!\")\n"
   ]
  },
  {
   "cell_type": "markdown",
   "id": "c0e11a15-71ff-41f2-8b4c-0cea69fc7af4",
   "metadata": {},
   "source": [
    "### Rock–Paper–Scissors ✊✋✌️\n",
    "\n",
    "Description:\n",
    "A simple implementation of the classic hand game. You choose rock, paper, or scissors — the computer picks one too — and Python tells you who wins.\n",
    "\n",
    "Concepts Learned:\n",
    "\n",
    "Lists (choices = [\"rock\", \"paper\", \"scissors\"])\n",
    "\n",
    "Random selection (random.choice())\n",
    "\n",
    "Logical comparisons\n",
    "\n",
    "Why it’s fun:\n",
    "You can play against the computer — and even modify the game to play multiple rounds!\n"
   ]
  },
  {
   "cell_type": "code",
   "execution_count": null,
   "id": "d2e9308e-9776-44f2-ab4f-56d8c62fb0eb",
   "metadata": {},
   "outputs": [],
   "source": []
  },
  {
   "cell_type": "code",
   "execution_count": 4,
   "id": "c2bba9f7-8f29-4db8-803a-179b50e2444c",
   "metadata": {},
   "outputs": [
    {
     "name": "stdin",
     "output_type": "stream",
     "text": [
      "Enter rock, paper, or scissors:  PAPPER\n"
     ]
    },
    {
     "name": "stdout",
     "output_type": "stream",
     "text": [
      "You lose! Computer chose paper.\n"
     ]
    }
   ],
   "source": [
    "import random\n",
    "\n",
    "choices = [\"rock\", \"paper\", \"scissors\"]\n",
    "computer = random.choice(choices)\n",
    "user = input(\"Enter rock, paper, or scissors: \").lower()\n",
    "\n",
    "if user == computer:\n",
    "    print(\"It's a tie!\")\n",
    "elif (user == \"rock\" and computer == \"scissors\") or \\\n",
    "     (user == \"paper\" and computer == \"rock\") or \\\n",
    "     (user == \"scissors\" and computer == \"paper\"):\n",
    "    print(f\"You win! Computer chose {computer}.\")\n",
    "else:\n",
    "    print(f\"You lose! Computer chose {computer}.\")\n"
   ]
  },
  {
   "cell_type": "markdown",
   "id": "a55856ba-1c01-4027-9067-8b9f9bc22516",
   "metadata": {},
   "source": [
    "### Simple Quiz Game 🧠\n",
    "\n",
    "Description:\n",
    "A small multiple-choice quiz where you answer a few questions. Python checks if your answer is correct and gives you a score at the end.\n",
    "\n",
    "Concepts Learned:\n",
    "\n",
    "String comparison (answer.lower())\n",
    "\n",
    "Counters and scores (score += 1)\n",
    "\n",
    "Basic input/output\n",
    "\n",
    "Why it’s fun:\n",
    "You can add your own questions and make it a full quiz on any topic (e.g., science, movies, or Python itself!)."
   ]
  },
  {
   "cell_type": "code",
   "execution_count": 5,
   "id": "29d6ad76-c903-41f1-ab6f-317a13926e9b",
   "metadata": {},
   "outputs": [
    {
     "name": "stdin",
     "output_type": "stream",
     "text": [
      "What is the capital of France?  PARISE\n"
     ]
    },
    {
     "name": "stdout",
     "output_type": "stream",
     "text": [
      "❌ Wrong!\n"
     ]
    },
    {
     "name": "stdin",
     "output_type": "stream",
     "text": [
      "What is 5 + 7?  12\n"
     ]
    },
    {
     "name": "stdout",
     "output_type": "stream",
     "text": [
      "✅ Correct!\n",
      "Your final score: 1/2\n"
     ]
    }
   ],
   "source": [
    "score = 0\n",
    "\n",
    "answer = input(\"What is the capital of France? \")\n",
    "if answer.lower() == \"paris\":\n",
    "    print(\"✅ Correct!\")\n",
    "    score += 1\n",
    "else:\n",
    "    print(\"❌ Wrong!\")\n",
    "\n",
    "answer = input(\"What is 5 + 7? \")\n",
    "if answer == \"12\":\n",
    "    print(\"✅ Correct!\")\n",
    "    score += 1\n",
    "else:\n",
    "    print(\"❌ Wrong!\")\n",
    "\n",
    "print(f\"Your final score: {score}/2\")\n"
   ]
  },
  {
   "cell_type": "markdown",
   "id": "4a8c48fe-5d83-4862-80e1-9e98e56e52e0",
   "metadata": {},
   "source": [
    "### Snake–Water–Gun \n",
    "\n",
    "Description:\n",
    "A variation of Rock–Paper–Scissors popular in India.\n",
    "\n",
    "Snake drinks water \n",
    "\n",
    "Water douses gun \n",
    "\n",
    "Gun shoots snake \n",
    "\n",
    "Concepts Learned:\n",
    "\n",
    "Game logic and condition mapping\n",
    "\n",
    "Random selection\n",
    "\n",
    "Simple input handling\n",
    "\n",
    "Why it’s fun:\n",
    "It’s a cultural twist on the classic RPS game — easy to play, easy to modify."
   ]
  },
  {
   "cell_type": "code",
   "execution_count": 6,
   "id": "7119815f-c03a-40c1-81bd-7152c612a70b",
   "metadata": {},
   "outputs": [
    {
     "name": "stdin",
     "output_type": "stream",
     "text": [
      "Choose snake, water, or gun:  GUN\n"
     ]
    },
    {
     "name": "stdout",
     "output_type": "stream",
     "text": [
      "It's a draw!\n"
     ]
    }
   ],
   "source": [
    "import random\n",
    "\n",
    "choices = [\"snake\", \"water\", \"gun\"]\n",
    "computer = random.choice(choices)\n",
    "user = input(\"Choose snake, water, or gun: \").lower()\n",
    "\n",
    "if user == computer:\n",
    "    print(\"It's a draw!\")\n",
    "elif (user == \"snake\" and computer == \"water\") or \\\n",
    "     (user == \"water\" and computer == \"gun\") or \\\n",
    "     (user == \"gun\" and computer == \"snake\"):\n",
    "    print(f\"You win! Computer chose {computer}.\")\n",
    "else:\n",
    "    print(f\"You lose! Computer chose {computer}.\")\n"
   ]
  },
  {
   "cell_type": "markdown",
   "id": "03d35538-1c20-4349-85bc-e8ea22b1bf8b",
   "metadata": {},
   "source": [
    "### Dice Rolling Simulator 🎲\n",
    "\n",
    "Description:\n",
    "Simulates a dice roll! Every time you press Enter, Python prints a random number between 1 and 6.\n",
    "\n",
    "Concepts Learned:\n",
    "\n",
    "Random numbers\n",
    "\n",
    "Infinite loops and exit conditions\n",
    "\n",
    "Input prompts\n",
    "\n",
    "Why it’s fun:\n",
    "You can use it for board games or modify it to roll multiple dice."
   ]
  },
  {
   "cell_type": "code",
   "execution_count": 7,
   "id": "c5fe7af0-2009-4b8c-b418-25b8db3e0b3a",
   "metadata": {},
   "outputs": [
    {
     "name": "stdout",
     "output_type": "stream",
     "text": [
      "🎲 You rolled: 4\n"
     ]
    },
    {
     "name": "stdin",
     "output_type": "stream",
     "text": [
      "Roll again? (y/n):  4\n"
     ]
    },
    {
     "name": "stdout",
     "output_type": "stream",
     "text": [
      "Goodbye!\n"
     ]
    }
   ],
   "source": [
    "import random\n",
    "\n",
    "while True:\n",
    "    print(\"🎲 You rolled:\", random.randint(1, 6))\n",
    "    again = input(\"Roll again? (y/n): \").lower()\n",
    "    if again != \"y\":\n",
    "        print(\"Goodbye!\")\n",
    "        break\n"
   ]
  },
  {
   "cell_type": "markdown",
   "id": "0f89fb18-616f-43a1-8179-ad4ee5502f9e",
   "metadata": {},
   "source": [
    "### Number Guess (with Range) \n",
    "\n",
    "Description:\n",
    "An upgraded version of the “Guess the Number” game — this time you can set a custom range (like 1–50).\n",
    "\n",
    "Concepts Learned:\n",
    "\n",
    "Random number generation within a range\n",
    "\n",
    "While loops\n",
    "\n",
    "Input and comparison\n",
    "\n",
    "Why it’s fun:\n",
    "You can make it harder by increasing the range or limiting the number of attempts!"
   ]
  },
  {
   "cell_type": "code",
   "execution_count": null,
   "id": "a0f3a49b-7de7-46dc-a526-0c4f9cbc2752",
   "metadata": {},
   "outputs": [],
   "source": [
    "import random\n",
    "\n",
    "low, high = 1, 50\n",
    "number = random.randint(low, high)\n",
    "print(f\"Guess a number between {low} and {high}\")\n",
    "\n",
    "while True:\n",
    "    guess = int(input(\"Enter guess: \"))\n",
    "    if guess == number:\n",
    "        print(\"🎯 You got it!\")\n",
    "        break\n",
    "    elif guess < number:\n",
    "        print(\"Too low!\")\n",
    "    else:\n",
    "        print(\"Too high!\")\n"
   ]
  },
  {
   "cell_type": "markdown",
   "id": "6135af8a-6a7d-401f-8f85-5a6e39327b3b",
   "metadata": {},
   "source": [
    "### Word Guess (Mini Hangman) \n",
    "\n",
    "Description:\n",
    "The computer chooses a random word, and you must guess it letter by letter. You have limited attempts before the game ends.\n",
    "\n",
    "Concepts Learned:\n",
    "\n",
    "String and list manipulation\n",
    "\n",
    "Loops and conditions\n",
    "\n",
    "Game state tracking (remaining attempts, guessed letters)\n",
    "\n",
    "Why it’s fun:\n",
    "It’s a text-based version of Hangman! You can add more words or customize the difficulty."
   ]
  },
  {
   "cell_type": "code",
   "execution_count": 8,
   "id": "ae409f96-481e-4a7b-ae1c-1116b893c551",
   "metadata": {},
   "outputs": [
    {
     "name": "stdout",
     "output_type": "stream",
     "text": [
      "Word: _ _ _ _ _ _\n",
      "Attempts left: 6\n"
     ]
    },
    {
     "name": "stdin",
     "output_type": "stream",
     "text": [
      "Guess a letter:  APPLE\n"
     ]
    },
    {
     "name": "stdout",
     "output_type": "stream",
     "text": [
      "Wrong guess!\n",
      "Word: _ _ _ _ _ _\n",
      "Attempts left: 5\n"
     ]
    },
    {
     "name": "stdin",
     "output_type": "stream",
     "text": [
      "Guess a letter:  L\n"
     ]
    },
    {
     "name": "stdout",
     "output_type": "stream",
     "text": [
      "Wrong guess!\n",
      "Word: _ _ _ _ _ _\n",
      "Attempts left: 4\n"
     ]
    },
    {
     "name": "stdin",
     "output_type": "stream",
     "text": [
      "Guess a letter:  K\n"
     ]
    },
    {
     "name": "stdout",
     "output_type": "stream",
     "text": [
      "Wrong guess!\n",
      "Word: _ _ _ _ _ _\n",
      "Attempts left: 3\n"
     ]
    },
    {
     "name": "stdin",
     "output_type": "stream",
     "text": [
      "Guess a letter:  K\n"
     ]
    },
    {
     "name": "stdout",
     "output_type": "stream",
     "text": [
      "Wrong guess!\n",
      "Word: _ _ _ _ _ _\n",
      "Attempts left: 2\n"
     ]
    },
    {
     "name": "stdin",
     "output_type": "stream",
     "text": [
      "Guess a letter:  K\n"
     ]
    },
    {
     "name": "stdout",
     "output_type": "stream",
     "text": [
      "Wrong guess!\n",
      "Word: _ _ _ _ _ _\n",
      "Attempts left: 1\n"
     ]
    },
    {
     "name": "stdin",
     "output_type": "stream",
     "text": [
      "Guess a letter:  H\n"
     ]
    },
    {
     "name": "stdout",
     "output_type": "stream",
     "text": [
      "Wrong guess!\n",
      "💀 Out of attempts! The word was: banana\n"
     ]
    }
   ],
   "source": [
    "import random\n",
    "\n",
    "words = [\"apple\", \"banana\", \"grape\", \"orange\"]\n",
    "word = random.choice(words)\n",
    "guessed = [\"_\"] * len(word)\n",
    "attempts = 6\n",
    "\n",
    "while attempts > 0 and \"_\" in guessed:\n",
    "    print(\"Word:\", \" \".join(guessed))\n",
    "    print(f\"Attempts left: {attempts}\")\n",
    "    guess = input(\"Guess a letter: \").lower()\n",
    "\n",
    "    if guess in word:\n",
    "        for i, ch in enumerate(word):\n",
    "            if ch == guess:\n",
    "                guessed[i] = guess\n",
    "    else:\n",
    "        attempts -= 1\n",
    "        print(\"Wrong guess!\")\n",
    "\n",
    "if \"_\" not in guessed:\n",
    "    print(f\"🎉 You guessed the word: {word}\")\n",
    "else:\n",
    "    print(f\"💀 Out of attempts! The word was: {word}\")\n"
   ]
  },
  {
   "cell_type": "markdown",
   "id": "5337090f-6e0f-42d1-8ed7-e1e8a6aa2692",
   "metadata": {},
   "source": [
    "### Tic Tac Toe (2-Player Game)\n",
    "\n",
    "Intro:\n",
    "A 2-player version of the classic Tic Tac Toe game. Players take turns placing X and O on a 3×3 board until someone wins or the board is full."
   ]
  },
  {
   "cell_type": "code",
   "execution_count": null,
   "id": "0a02b8b8-7288-4640-b025-8e8229d5467d",
   "metadata": {},
   "outputs": [],
   "source": [
    "def print_board(board):\n",
    "    for row in board:\n",
    "        print(\" | \".join(row))\n",
    "        print(\"-\" * 5)\n",
    "\n",
    "def check_winner(board, player):\n",
    "    for row in board:\n",
    "        if all(s == player for s in row):\n",
    "            return True\n",
    "    for col in range(3):\n",
    "        if all(board[row][col] == player for row in range(3)):\n",
    "            return True\n",
    "    if all(board[i][i] == player for i in range(3)) or all(board[i][2-i] == player for i in range(3)):\n",
    "        return True\n",
    "    return False\n",
    "\n",
    "board = [[\" \"]*3 for _ in range(3)]\n",
    "player = \"X\"\n",
    "\n",
    "for turn in range(9):\n",
    "    print_board(board)\n",
    "    row = int(input(f\"Player {player}, enter row (0-2): \"))\n",
    "    col = int(input(f\"Player {player}, enter col (0-2): \"))\n",
    "    if board[row][col] == \" \":\n",
    "        board[row][col] = player\n",
    "        if check_winner(board, player):\n",
    "            print_board(board)\n",
    "            print(f\"🎉 Player {player} wins!\")\n",
    "            break\n",
    "        player = \"O\" if player == \"X\" else \"X\"\n",
    "    else:\n",
    "        print(\"Spot taken, try again!\")\n",
    "else:\n",
    "    print(\"It's a draw!\")\n"
   ]
  },
  {
   "cell_type": "code",
   "execution_count": null,
   "id": "c45e11f0-2007-43fd-8b07-dd03e4e58352",
   "metadata": {},
   "outputs": [],
   "source": []
  },
  {
   "cell_type": "markdown",
   "id": "19876faf-ed2f-4650-b590-4757ff567870",
   "metadata": {},
   "source": [
    "### Math Quiz with Timer\n",
    "\n",
    "Intro:\n",
    "A math quiz that gives you random addition/subtraction questions. You must answer quickly before the time runs out!"
   ]
  },
  {
   "cell_type": "code",
   "execution_count": null,
   "id": "0397ffe2-e8f8-4f27-bc4f-3fde35e8eb86",
   "metadata": {},
   "outputs": [],
   "source": [
    "import random, time\n",
    "\n",
    "score = 0\n",
    "num_questions = 5\n",
    "\n",
    "for i in range(num_questions):\n",
    "    a, b = random.randint(1, 20), random.randint(1, 20)\n",
    "    start = time.time()\n",
    "    answer = int(input(f\"{a} + {b} = \"))\n",
    "    end = time.time()\n",
    "    if end - start > 5:\n",
    "        print(\"⏰ Too slow!\")\n",
    "    elif answer == a + b:\n",
    "        print(\"✅ Correct!\")\n",
    "        score += 1\n",
    "    else:\n",
    "        print(\"❌ Wrong!\")\n",
    "print(f\"Final Score: {score}/{num_questions}\")\n"
   ]
  },
  {
   "cell_type": "markdown",
   "id": "fe6f7484-e436-49a5-a3b0-670197ad3acf",
   "metadata": {},
   "source": [
    "### Number Memory Game\n",
    "\n",
    "Intro:\n",
    "You’re shown a number for a moment — then it disappears. Can you remember and type it correctly?"
   ]
  },
  {
   "cell_type": "code",
   "execution_count": null,
   "id": "217bce23-479d-4133-9430-4edbc5635d19",
   "metadata": {},
   "outputs": [],
   "source": [
    "import random, time, os\n",
    "\n",
    "for level in range(1, 6):\n",
    "    number = random.randint(10**level, 10**(level+1))\n",
    "    print(f\"Remember this number: {number}\")\n",
    "    time.sleep(2)\n",
    "    os.system('cls' if os.name == 'nt' else 'clear')\n",
    "    guess = input(\"Enter the number: \")\n",
    "    if guess == str(number):\n",
    "        print(\"✅ Correct!\")\n",
    "    else:\n",
    "        print(f\"❌ Wrong! It was {number}\")\n",
    "        break\n",
    "else:\n",
    "    print(\"🎉 You have an excellent memory!\")\n"
   ]
  },
  {
   "cell_type": "markdown",
   "id": "677ea199-7242-4282-a48a-bfacb7a31f6e",
   "metadata": {},
   "source": [
    "### Word Scramble Game\n",
    "\n",
    "Intro:\n",
    "The letters of a word are shuffled, and you have to guess the correct word."
   ]
  },
  {
   "cell_type": "code",
   "execution_count": null,
   "id": "47cf0536-2475-4d84-adc5-9a74711aeebb",
   "metadata": {},
   "outputs": [],
   "source": [
    "import random\n",
    "\n",
    "words = [\"python\", \"developer\", \"algorithm\", \"machine\", \"variable\"]\n",
    "word = random.choice(words)\n",
    "scrambled = \"\".join(random.sample(word, len(word)))\n",
    "\n",
    "print(f\"Unscramble this word: {scrambled}\")\n",
    "guess = input(\"Your guess: \")\n",
    "\n",
    "if guess.lower() == word:\n",
    "    print(\"🎉 Correct!\")\n",
    "else:\n",
    "    print(f\"❌ Wrong! The word was '{word}'.\")\n"
   ]
  },
  {
   "cell_type": "markdown",
   "id": "df82ed09-1014-4747-83ce-b5aa79036faa",
   "metadata": {},
   "source": [
    "### Calculator Game\n",
    "\n",
    "Intro:\n",
    "A simple calculator that asks random math operations. You earn points for correct answers!"
   ]
  },
  {
   "cell_type": "code",
   "execution_count": null,
   "id": "a2063c45-090f-42c7-974f-3ba80164fb9a",
   "metadata": {},
   "outputs": [],
   "source": [
    "import random, operator\n",
    "\n",
    "ops = {\"+\": operator.add, \"-\": operator.sub, \"*\": operator.mul}\n",
    "score = 0\n",
    "\n",
    "for _ in range(5):\n",
    "    a, b = random.randint(1, 10), random.randint(1, 10)\n",
    "    op = random.choice(list(ops.keys()))\n",
    "    correct = ops[op](a, b)\n",
    "    ans = int(input(f\"{a} {op} {b} = \"))\n",
    "    if ans == correct:\n",
    "        print(\"✅ Correct!\")\n",
    "        score += 1\n",
    "    else:\n",
    "        print(f\"❌ Wrong! The correct answer was {correct}\")\n",
    "print(f\"Your total score: {score}/5\")\n"
   ]
  },
  {
   "cell_type": "markdown",
   "id": "ccd8eb79-23a7-41cc-8815-012bceb07bde",
   "metadata": {},
   "source": [
    "### Conclusion\n",
    "\n",
    "This project is perfect for beginners who want to learn Python programming through games.\n",
    "It covers:\n",
    "\n",
    "Basics → loops, conditions, user input\n",
    "\n",
    "Intermediate → memory, logic, timing, 2-player interactions\n",
    "\n",
    "Teaches problem-solving, debugging, and clean coding\n",
    "\n",
    
   ]
  },
  {
   "cell_type": "code",
   "execution_count": null,
   "id": "f81a8325-ee39-4652-ad67-c0567902aa6b",
   "metadata": {},
   "outputs": [],
   "source": []
  }
 ],
 "metadata": {
  "kernelspec": {
   "display_name": "Python [conda env:base] *",
   "language": "python",
   "name": "conda-base-py"
  },
  "language_info": {
   "codemirror_mode": {
    "name": "ipython",
    "version": 3
   },
   "file_extension": ".py",
   "mimetype": "text/x-python",
   "name": "python",
   "nbconvert_exporter": "python",
   "pygments_lexer": "ipython3",
   "version": "3.12.7"
  }
 },
 "nbformat": 4,
 "nbformat_minor": 5
}
